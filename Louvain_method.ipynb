{
  "nbformat": 4,
  "nbformat_minor": 0,
  "metadata": {
    "colab": {
      "name": "Louvain_method.ipynb",
      "provenance": [],
      "collapsed_sections": []
    },
    "kernelspec": {
      "name": "python3",
      "display_name": "Python 3"
    }
  },
  "cells": [
    {
      "cell_type": "code",
      "metadata": {
        "colab": {
          "base_uri": "https://localhost:8080/"
        },
        "id": "ICNGO3d26ApD",
        "outputId": "319e01c0-ebca-4ae3-da45-b464f71059fc"
      },
      "source": [
        "!pip install python-louvain\n",
        "import community as community_louvain\n",
        "import networkx as nx\n",
        "\n",
        "# loading data...\n",
        "filename = '/content/drive/MyDrive/GRAPH DATA/reddit.mat'\n",
        "import scipy.io as sio\n",
        "mat_dict = sio.loadmat(filename)\n",
        "A = mat_dict['A']\n",
        "X = mat_dict['X']\n",
        "Y = mat_dict['Y']\n",
        "train_mask = mat_dict['train_mask'].squeeze().astype(bool)\n",
        "val_mask = mat_dict['val_mask'].squeeze().astype(bool)\n",
        "test_mask = mat_dict['test_mask'].squeeze().astype(bool)\n",
        "\n",
        "# applying the Louvain method\n",
        "G = nx.from_scipy_sparse_matrix(A)\n",
        "partition = community_louvain.best_partition(G)\n",
        "\n",
        "# evaluation\n",
        "import numpy as np\n",
        "y_pred = np.array(list(partition.values()))\n",
        "y_true = np.argmax(Y, axis=1)\n",
        "from sklearn.metrics import adjusted_mutual_info_score\n",
        "print(adjusted_mutual_info_score(y_true, y_pred))\n"
      ],
      "execution_count": null,
      "outputs": [
        {
          "output_type": "stream",
          "text": [
            "Requirement already satisfied: python-louvain in /usr/local/lib/python3.7/dist-packages (0.15)\n",
            "Requirement already satisfied: numpy in /usr/local/lib/python3.7/dist-packages (from python-louvain) (1.19.5)\n",
            "Requirement already satisfied: networkx in /usr/local/lib/python3.7/dist-packages (from python-louvain) (2.5)\n",
            "Requirement already satisfied: decorator>=4.3.0 in /usr/local/lib/python3.7/dist-packages (from networkx->python-louvain) (4.4.2)\n",
            "0.7760605854871738\n"
          ],
          "name": "stdout"
        }
      ]
    }
  ]
}